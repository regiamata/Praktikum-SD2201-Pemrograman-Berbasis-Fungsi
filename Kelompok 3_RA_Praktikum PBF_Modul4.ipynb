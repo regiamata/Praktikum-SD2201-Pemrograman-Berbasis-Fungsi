{
  "nbformat": 4,
  "nbformat_minor": 0,
  "metadata": {
    "colab": {
      "provenance": []
    },
    "kernelspec": {
      "name": "python3",
      "display_name": "Python 3"
    },
    "language_info": {
      "name": "python"
    }
  },
  "cells": [
    {
      "cell_type": "code",
      "execution_count": null,
      "metadata": {
        "colab": {
          "base_uri": "https://localhost:8080/"
        },
        "id": "3z5R5C-pT5YN",
        "outputId": "5bfe4d36-fe11-4a5f-8025-16455c59a3b0"
      },
      "outputs": [
        {
          "output_type": "stream",
          "name": "stdout",
          "text": [
            "      Unnamed: 0                   alamat  \\\n",
            "0              0        Antapani, Bandung   \n",
            "1              1   Bandung Wetan, Bandung   \n",
            "2              2      Padalarang, Bandung   \n",
            "3              3                  Bandung   \n",
            "4              4    Cibiru Hilir, Bandung   \n",
            "...          ...                      ...   \n",
            "1465        1465        Turangga, Bandung   \n",
            "1466        1466                  Bandung   \n",
            "1467        1467  Soekarno Hatta, Bandung   \n",
            "1468        1468       Rancasari, Bandung   \n",
            "1469        1469        Turangga, Bandung   \n",
            "\n",
            "                                              deskripsi  kamar  bangunan  \\\n",
            "0     Promo akhir tahun !! Hanya 500 jt-an + FREE SH...      3        75   \n",
            "1     Rumah Baru modern 2 LT di Sayap Kota Cimahi de...      3        70   \n",
            "2     *Jadilah konsumen CERDAS !* *Tips singkat sebe...      2        36   \n",
            "3     Copy writing nasc  NUANSA ALAM SETIABUDHI CLOV...      2        60   \n",
            "4     Hunian Nyaman di Cibiru, Cileunyi, Bandung Tim...      2        90   \n",
            "...                                                 ...    ...       ...   \n",
            "1465  Di jual rumah lama turangga\\nLuas tanah : 240 ...      6       280   \n",
            "1466  Rumah bagus siap huni dan terawat, dekat denga...      3       180   \n",
            "1467  Turun HargaHarga Awal 675 sekarang jadi 572 ne...      2        65   \n",
            "1468  Dijual Cepat Rumah di Komplek Batu Raden dekat...      6       160   \n",
            "1469  Turun Harga drastis CAKEP BOSQUE.. Area Turang...      5       240   \n",
            "\n",
            "      lahan       harga  \n",
            "0        84   590000000  \n",
            "1        71   700000000  \n",
            "2        72   386000000  \n",
            "3        60   499000000  \n",
            "4       114   397500000  \n",
            "...     ...         ...  \n",
            "1465    240  2800000000  \n",
            "1466     90  1000000000  \n",
            "1467     72   572000000  \n",
            "1468    318  2300000000  \n",
            "1469    188  2400000000  \n",
            "\n",
            "[1470 rows x 7 columns]\n"
          ]
        }
      ],
      "source": [
        "import pandas as pd\n",
        "\n",
        "data = pd.read_excel(\"/content/data_rumah.csv.xlsx\")\n",
        "\n",
        "del data['judul']\n",
        "print(data)"
      ]
    },
    {
      "cell_type": "code",
      "source": [
        "del data['deskripsi']\n",
        "\n",
        "print(data)"
      ],
      "metadata": {
        "colab": {
          "base_uri": "https://localhost:8080/"
        },
        "id": "-_b4ym4nXFbQ",
        "outputId": "9e48ada3-5748-435b-9419-1bf4a0319f9c"
      },
      "execution_count": null,
      "outputs": [
        {
          "output_type": "stream",
          "name": "stdout",
          "text": [
            "      Unnamed: 0                   alamat  kamar  bangunan  lahan       harga\n",
            "0              0        Antapani, Bandung      3        75     84   590000000\n",
            "1              1   Bandung Wetan, Bandung      3        70     71   700000000\n",
            "2              2      Padalarang, Bandung      2        36     72   386000000\n",
            "3              3                  Bandung      2        60     60   499000000\n",
            "4              4    Cibiru Hilir, Bandung      2        90    114   397500000\n",
            "...          ...                      ...    ...       ...    ...         ...\n",
            "1465        1465        Turangga, Bandung      6       280    240  2800000000\n",
            "1466        1466                  Bandung      3       180     90  1000000000\n",
            "1467        1467  Soekarno Hatta, Bandung      2        65     72   572000000\n",
            "1468        1468       Rancasari, Bandung      6       160    318  2300000000\n",
            "1469        1469        Turangga, Bandung      5       240    188  2400000000\n",
            "\n",
            "[1470 rows x 6 columns]\n"
          ]
        }
      ]
    },
    {
      "cell_type": "code",
      "source": [
        "print(\"Silakan masukkan kriteria filter harga rumah: (Tidak perlu simbol titik)\")\n",
        "hargamin = float(input(\"Harga minimum: \"))\n",
        "hargamax = float(input(\"Harga maksimum: \"))\n",
        "\n",
        "def filter(condition):\n",
        "    def filterdata(data):\n",
        "        filtered_data = data[data.apply(condition, axis=1)]\n",
        "        return filtered_data if not filtered_data.empty else None\n",
        "    return filterdata\n",
        "\n",
        "def harga(data):\n",
        "    return (data['harga'] >= hargamin) & (data['harga'] <= hargamax)\n",
        "\n",
        "harga = filter(harga)\n",
        "rumah = harga(data)\n",
        "\n",
        "if rumah is not None and not rumah.empty:\n",
        "    print(\"\\nRumah yang sesuai dengan kriteria:\")\n",
        "    print(rumah)\n",
        "elif rumah is None:\n",
        "    print(\"Tidak ada rumah yang sesuai dengan kriteria.\")"
      ],
      "metadata": {
        "colab": {
          "base_uri": "https://localhost:8080/"
        },
        "id": "JYaXqmIEVjFW",
        "outputId": "bde3ddc1-8f95-49f2-de33-2e738a6ac6d9"
      },
      "execution_count": null,
      "outputs": [
        {
          "output_type": "stream",
          "name": "stdout",
          "text": [
            "Silakan masukkan kriteria filter harga rumah: (Tidak perlu simbol titik)\n",
            "Harga minimum: 100000000\n",
            "Harga maksimum: 500000000\n",
            "\n",
            "Rumah yang sesuai dengan kriteria:\n",
            "      Unnamed: 0                          alamat  kamar  bangunan  lahan  \\\n",
            "2              2             Padalarang, Bandung      2        36     72   \n",
            "3              3                         Bandung      2        60     60   \n",
            "4              4           Cibiru Hilir, Bandung      2        90    114   \n",
            "6              6  Buahbatu (Margacinta), Bandung      2        48     80   \n",
            "7              7                         Bandung      2        36     60   \n",
            "...          ...                             ...    ...       ...    ...   \n",
            "1431        1431               Katapang, Bandung      2        36     50   \n",
            "1438        1438                         Bandung      2        45     64   \n",
            "1441        1441                         Bandung      2        45     64   \n",
            "1445        1445          Bandung Kulon, Bandung      2        45     65   \n",
            "1458        1458                         Bandung      2        45     60   \n",
            "\n",
            "          harga  \n",
            "2     386000000  \n",
            "3     499000000  \n",
            "4     397500000  \n",
            "6     448000000  \n",
            "7     150000000  \n",
            "...         ...  \n",
            "1431  155170000  \n",
            "1438  450000000  \n",
            "1441  450000000  \n",
            "1445  440000000  \n",
            "1458  383169900  \n",
            "\n",
            "[237 rows x 6 columns]\n"
          ]
        }
      ]
    },
    {
      "cell_type": "code",
      "source": [
        "print(\"Silakan masukkan kriteria filter lahan, bangunan, dan jumlah kamar rumah: (Tidak perlu simbol titik)\")\n",
        "lahanmin = float(input(\"Luas minimum lahan: \"))\n",
        "lahanmax = float(input(\"Luas maksimum lahan: \"))\n",
        "bangunanmin = float(input(\"Luas minimum bangunan: \"))\n",
        "bangunanmax = float(input(\"Luas maksimum bangunan: \"))\n",
        "kamarmin = int(input(\"Jumlah kamar minimum: \"))\n",
        "\n",
        "def filter(condition):\n",
        "    def filterdata(data):\n",
        "        filtered_data = data[data.apply(condition, axis=1)]\n",
        "        return filtered_data if not filtered_data.empty else None\n",
        "    return filterdata\n",
        "\n",
        "def lahankamar(data):\n",
        "    return ((data['lahan'] >= lahanmin) & (data['lahan'] <= lahanmax)) & ((data['bangunan'] >= bangunanmin) & (data['bangunan'] <= bangunanmax)) & (data['kamar'] >= kamarmin)\n",
        "\n",
        "lahanbangunankamar = filter(lahankamar)\n",
        "rumahfilter = lahanbangunankamar(data)\n",
        "\n",
        "if rumahfilter is not None and not rumahfilter.empty:\n",
        "    print(\"\\nRumah yang sesuai dengan kriteria:\")\n",
        "    print(rumahfilter)\n",
        "    data = rumahfilter\n",
        "elif rumahfilter is None:\n",
        "    print(\"Tidak ada rumah yang sesuai dengan kriteria.\")"
      ],
      "metadata": {
        "colab": {
          "base_uri": "https://localhost:8080/"
        },
        "id": "Whqwr5xEYZdF",
        "outputId": "c6046da3-dd43-4ad9-dfe7-eef70c21ca29"
      },
      "execution_count": null,
      "outputs": [
        {
          "output_type": "stream",
          "name": "stdout",
          "text": [
            "Silakan masukkan kriteria filter lahan, bangunan, dan jumlah kamar rumah: (Tidak perlu simbol titik)\n",
            "Luas minimum lahan: 100\n",
            "Luas maksimum lahan: 200\n",
            "Luas minimum bangunan: 50\n",
            "Luas maksimum bangunan: 150\n",
            "Jumlah kamar minimum: 2\n",
            "\n",
            "Rumah yang sesuai dengan kriteria:\n",
            "      Unnamed: 0                     alamat  kamar  bangunan  lahan  \\\n",
            "4              4      Cibiru Hilir, Bandung      2        90    114   \n",
            "16            16           Cidadap, Bandung      3       100    100   \n",
            "20            20         Cibaduyut, Bandung      2        70    100   \n",
            "21            21          Buahbatu, Bandung      4        70    120   \n",
            "22            22         Cibaduyut, Bandung      2       100    120   \n",
            "...          ...                        ...    ...       ...    ...   \n",
            "1433        1433  Magahayu Selatan, Bandung      3        95    105   \n",
            "1439        1439       Dayeuhkolot, Bandung      3       100    115   \n",
            "1444        1444        Cigondewah, Bandung      4       150    144   \n",
            "1457        1457           Ciateul, Bandung      4        90    100   \n",
            "1460        1460        Padalarang, Bandung      3        98    108   \n",
            "\n",
            "           harga  \n",
            "4      397500000  \n",
            "16    1250000000  \n",
            "20     350000000  \n",
            "21     225000000  \n",
            "22    1650000000  \n",
            "...          ...  \n",
            "1433   755000000  \n",
            "1439   700000000  \n",
            "1444  1500000000  \n",
            "1457  1395000000  \n",
            "1460  1500000000  \n",
            "\n",
            "[302 rows x 6 columns]\n"
          ]
        }
      ]
    },
    {
      "cell_type": "code",
      "source": [
        "print(data)"
      ],
      "metadata": {
        "colab": {
          "base_uri": "https://localhost:8080/"
        },
        "id": "gdD2cnR6biID",
        "outputId": "5058a3bf-7f4d-4154-860f-84b24ef669e6"
      },
      "execution_count": null,
      "outputs": [
        {
          "output_type": "stream",
          "name": "stdout",
          "text": [
            "      Unnamed: 0                     alamat  kamar  bangunan  lahan  \\\n",
            "4              4      Cibiru Hilir, Bandung      2        90    114   \n",
            "16            16           Cidadap, Bandung      3       100    100   \n",
            "20            20         Cibaduyut, Bandung      2        70    100   \n",
            "21            21          Buahbatu, Bandung      4        70    120   \n",
            "22            22         Cibaduyut, Bandung      2       100    120   \n",
            "...          ...                        ...    ...       ...    ...   \n",
            "1433        1433  Magahayu Selatan, Bandung      3        95    105   \n",
            "1439        1439       Dayeuhkolot, Bandung      3       100    115   \n",
            "1444        1444        Cigondewah, Bandung      4       150    144   \n",
            "1457        1457           Ciateul, Bandung      4        90    100   \n",
            "1460        1460        Padalarang, Bandung      3        98    108   \n",
            "\n",
            "           harga  \n",
            "4      397500000  \n",
            "16    1250000000  \n",
            "20     350000000  \n",
            "21     225000000  \n",
            "22    1650000000  \n",
            "...          ...  \n",
            "1433   755000000  \n",
            "1439   700000000  \n",
            "1444  1500000000  \n",
            "1457  1395000000  \n",
            "1460  1500000000  \n",
            "\n",
            "[302 rows x 6 columns]\n"
          ]
        }
      ]
    },
    {
      "cell_type": "code",
      "source": [
        "dataterurut = data.sort_values(by='harga')\n",
        "print(dataterurut)"
      ],
      "metadata": {
        "colab": {
          "base_uri": "https://localhost:8080/"
        },
        "id": "r694W2CTcLFx",
        "outputId": "f1e0801f-4292-4cb1-e600-8e41ce4e9ac5"
      },
      "execution_count": null,
      "outputs": [
        {
          "output_type": "stream",
          "name": "stdout",
          "text": [
            "      Unnamed: 0                 alamat  kamar  bangunan  lahan       harga\n",
            "51            51                Bandung      3        70    120   199999999\n",
            "969          969      Buahbatu, Bandung      3        95    105   200000000\n",
            "21            21      Buahbatu, Bandung      4        70    120   225000000\n",
            "184          184       Cimaung, Bandung      4        70    120   225000000\n",
            "95            95   Bojongsoang, Bandung      4        70    120   225000000\n",
            "...          ...                    ...    ...       ...    ...         ...\n",
            "341          341                Bandung      6       126    190  3325000000\n",
            "1202        1202       Pasteur, Bandung      3       144    161  3500000000\n",
            "314          314      Sarijadi, Bandung      2       144    172  3500000000\n",
            "380          380  Astana Anyar, Bandung      5       130    122  3500000000\n",
            "255          255      Buahbatu, Bandung      4       147    140  3841200000\n",
            "\n",
            "[302 rows x 6 columns]\n"
          ]
        }
      ]
    }
  ]
}